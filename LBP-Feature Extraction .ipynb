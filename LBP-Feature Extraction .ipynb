{
 "cells": [
  {
   "cell_type": "code",
   "execution_count": 2,
   "metadata": {},
   "outputs": [],
   "source": [
    "import numpy as np \n",
    "import pandas as pd \n",
    "import matplotlib.pyplot as plt\n",
    "import seaborn as sns\n",
    "import glob\n",
    "import cv2 \n",
    "from skimage.feature import local_binary_pattern\n",
    "from skimage import feature\n",
    "from sklearn.model_selection import train_test_split\n",
    "from sklearn.neighbors import KNeighborsClassifier\n",
    "from sklearn.metrics.pairwise import euclidean_distances\n"
   ]
  },
  {
   "cell_type": "code",
   "execution_count": 3,
   "metadata": {},
   "outputs": [
    {
     "name": "stdout",
     "output_type": "stream",
     "text": [
      "Shapes of Dataset: (410, 80, 70)\n"
     ]
    }
   ],
   "source": [
    "# load images of ORL\n",
    "Images = []\n",
    "Labels = []\n",
    "files = glob.glob(\"./ORL/*.jpg\")\n",
    "files.sort()\n",
    "for img in files:\n",
    "    tile= cv2.imread(img)\n",
    "    tile = cv2.cvtColor(tile, cv2.COLOR_BGR2GRAY)\n",
    "    label = img.split(\"_\")[1].split(\".\")[0]\n",
    "    Labels.append(int(label))\n",
    "    Images.append(tile)\n",
    "    \n",
    "Images = np.array(Images)\n",
    "Labels = np.array(Labels)\n",
    "print(\"Shapes of Dataset:\",Images.shape)\n"
   ]
  },
  {
   "cell_type": "code",
   "execution_count": 3,
   "metadata": {},
   "outputs": [],
   "source": [
    "def BinaryPixel(img, center, x, y):\n",
    "    new_value = 0\n",
    "    try:\n",
    "        if img[x][y] >= center:\n",
    "            new_value = 1\n",
    "    except:\n",
    "        pass\n",
    "\n",
    "    return new_value\n",
    "\n",
    "def LBPPixelCalculator(img, x, y):\n",
    "\n",
    "    center = img[x][y]\n",
    "\n",
    "    val_ar = []\n",
    "\n",
    "    # top_left\n",
    "    val_ar.append(BinaryPixel(img, center, x-1, y-1))\n",
    "\n",
    "    # top\n",
    "    val_ar.append(BinaryPixel(img, center, x-1, y))\n",
    "\n",
    "    # top_right\n",
    "    val_ar.append(BinaryPixel(img, center, x-1, y + 1))\n",
    "\n",
    "    # right\n",
    "    val_ar.append(BinaryPixel(img, center, x, y + 1))\n",
    "\n",
    "    # bottom_right\n",
    "    val_ar.append(BinaryPixel(img, center, x + 1, y + 1))\n",
    "\n",
    "    # bottom\n",
    "    val_ar.append(BinaryPixel(img, center, x + 1, y))\n",
    "\n",
    "    # bottom_left\n",
    "    val_ar.append(BinaryPixel(img, center, x + 1, y-1))\n",
    "\n",
    "    # left\n",
    "    val_ar.append(BinaryPixel(img, center, x, y-1))\n",
    "\n",
    "    # Now, we need to convert binary\n",
    "    # values to decimal\n",
    "    power_val = [1, 2, 4, 8, 16, 32, 64, 128]\n",
    "\n",
    "    val = 0\n",
    "\n",
    "    for i in range(len(val_ar)):\n",
    "        val += val_ar[i] * power_val[i]\n",
    "\n",
    "    return val\n",
    "\n",
    "\n",
    "def GetLBPFeatures(img_bgr):\n",
    "    height, width = img_bgr.shape\n",
    "    img_lbp = np.zeros((height, width),np.uint8)\n",
    "    for i in range(0, height):\n",
    "        for j in range(0, width):\n",
    "            img_lbp[i, j] = LBPPixelCalculator(img_bgr, i, j)\n",
    "            \n",
    "    hist = plt.hist(np.reshape(img_lbp,(width*height,)),bins=256)\n",
    "    plt.clf()\n",
    "    \n",
    "    #normal \n",
    "    hist = hist[0]/sum(hist[0])\n",
    "    \n",
    "    return hist\n",
    "    \n",
    "\n"
   ]
  },
  {
   "cell_type": "code",
   "execution_count": 4,
   "metadata": {},
   "outputs": [
    {
     "data": {
      "text/plain": [
       "(410, 256)"
      ]
     },
     "execution_count": 4,
     "metadata": {},
     "output_type": "execute_result"
    },
    {
     "data": {
      "text/plain": [
       "<Figure size 432x288 with 0 Axes>"
      ]
     },
     "metadata": {},
     "output_type": "display_data"
    }
   ],
   "source": [
    "X_train = []\n",
    "\n",
    "for i in range(len(Images)):\n",
    "    X_train.append(GetLBPFeatures(Images[i]))\n",
    "X_train = np.array(X_train)\n",
    "X_train.shape"
   ]
  },
  {
   "cell_type": "code",
   "execution_count": 5,
   "metadata": {},
   "outputs": [],
   "source": [
    "\n",
    "index = 0\n",
    "OutPuts = []\n",
    "while index !=200:\n",
    "    index+=1\n",
    "    X_train_, X_test, Y_train, Y_test = train_test_split(X_train, Labels, test_size=0.2, stratify=Labels)\n",
    "\n",
    "    knn = KNeighborsClassifier(n_neighbors=3,metric=\"cosine\")\n",
    "    knn.fit(X_train_,Y_train)\n",
    "    OutPuts.append (knn.score(X_test,Y_test))"
   ]
  },
  {
   "cell_type": "code",
   "execution_count": 6,
   "metadata": {},
   "outputs": [
    {
     "name": "stdout",
     "output_type": "stream",
     "text": [
      "Mean of accuracy for Actual features: 0.853719512195122\n"
     ]
    }
   ],
   "source": [
    "print(\"Mean of accuracy for Actual features:\",np.mean(OutPuts))"
   ]
  },
  {
   "cell_type": "code",
   "execution_count": 7,
   "metadata": {},
   "outputs": [],
   "source": [
    "while abs(np.mean(OutPuts) - knn.score(X_test,Y_test)) >= 0.01:\n",
    "    X_train_, X_test, Y_train, Y_test = train_test_split(X_train, Labels, test_size=0.25, stratify=Labels)\n",
    "    knn = KNeighborsClassifier(n_neighbors=3,metric=\"cosine\")\n",
    "    knn.fit(X_train_,Y_train)"
   ]
  },
  {
   "cell_type": "code",
   "execution_count": 8,
   "metadata": {},
   "outputs": [
    {
     "data": {
      "text/plain": [
       "0.8536585365853658"
      ]
     },
     "execution_count": 8,
     "metadata": {},
     "output_type": "execute_result"
    }
   ],
   "source": [
    "knn.score(X_test,Y_test)"
   ]
  },
  {
   "cell_type": "code",
   "execution_count": 9,
   "metadata": {},
   "outputs": [],
   "source": [
    "with open('X-Train.npy', 'wb') as f:\n",
    "    np.save(f, X_train_)\n",
    "    \n",
    "with open('Y-Train.npy', 'wb') as f:\n",
    "    np.save(f, Y_train)\n",
    "    \n",
    "with open('X-Test.npy', 'wb') as f:\n",
    "    np.save(f, X_test)\n",
    "    \n",
    "with open('Y-Test.npy', 'wb') as f:\n",
    "    np.save(f, Y_test)\n",
    "    "
   ]
  },
  {
   "cell_type": "code",
   "execution_count": null,
   "metadata": {},
   "outputs": [],
   "source": []
  },
  {
   "cell_type": "code",
   "execution_count": null,
   "metadata": {},
   "outputs": [],
   "source": []
  },
  {
   "cell_type": "code",
   "execution_count": null,
   "metadata": {},
   "outputs": [],
   "source": []
  }
 ],
 "metadata": {
  "kernelspec": {
   "display_name": "Python 3",
   "language": "python",
   "name": "python3"
  },
  "language_info": {
   "codemirror_mode": {
    "name": "ipython",
    "version": 3
   },
   "file_extension": ".py",
   "mimetype": "text/x-python",
   "name": "python",
   "nbconvert_exporter": "python",
   "pygments_lexer": "ipython3",
   "version": "3.8.2"
  }
 },
 "nbformat": 4,
 "nbformat_minor": 4
}
