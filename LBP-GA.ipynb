{
 "cells": [
  {
   "cell_type": "code",
   "execution_count": 1,
   "metadata": {},
   "outputs": [],
   "source": [
    "import cv2\n",
    "import numpy as np\n",
    "from skimage import feature\n",
    "import pandas as pd \n",
    "import matplotlib.pyplot as plt\n",
    "import seaborn as sns \n",
    "from skimage import feature\n",
    "from sklearn.neighbors import KNeighborsClassifier\n",
    "from sklearn_genetic import GASearchCV\n",
    "from sklearn.model_selection import train_test_split, GridSearchCV, RandomizedSearchCV\n",
    "from sklearn.metrics import accuracy_score\n",
    "import warnings\n",
    "warnings.filterwarnings(\"ignore\")\n",
    "\n",
    "from sklearn_genetic import GAFeatureSelectionCV\n",
    "from sklearn_genetic.plots import plot_fitness_evolution\n",
    "from sklearn.model_selection import train_test_split, StratifiedKFold\n"
   ]
  },
  {
   "cell_type": "code",
   "execution_count": 2,
   "metadata": {},
   "outputs": [],
   "source": [
    "# load dataset\n",
    "with open('X-Train.npy', 'rb') as f:\n",
    "    X_train = np.load(f)\n",
    "    \n",
    "with open('Y-Train.npy', 'rb') as f:\n",
    "    Y_train = np.load(f)\n",
    "    \n",
    "with open('X-Test.npy', 'rb') as f:\n",
    "    X_test = np.load(f)\n",
    "    \n",
    "with open('Y-Test.npy', 'rb') as f:\n",
    "    Y_test = np.load(f)\n",
    "    "
   ]
  },
  {
   "cell_type": "code",
   "execution_count": 8,
   "metadata": {},
   "outputs": [],
   "source": [
    "classifier = KNeighborsClassifier(n_neighbors=3,metric=\"cosine\")\n",
    "\n",
    "\n",
    "evolved_estimator = GAFeatureSelectionCV(\n",
    "    estimator=classifier,\n",
    "    cv=5,\n",
    "    scoring=\"accuracy\",\n",
    "    population_size=30,\n",
    "    generations=20,\n",
    "    verbose=True,\n",
    "    elitism=True,\n",
    "    max_features=256\n",
    ")\n"
   ]
  },
  {
   "cell_type": "code",
   "execution_count": 9,
   "metadata": {},
   "outputs": [
    {
     "name": "stdout",
     "output_type": "stream",
     "text": [
      "gen\tnevals\tfitness \tfitness_std\tfitness_max\tfitness_min\n",
      "0  \t30    \t0.743902\t0.039854   \t0.817073   \t0.67561    \n",
      "1  \t60    \t0.779919\t0.0180848  \t0.819512   \t0.739024   \n",
      "2  \t60    \t0.794634\t0.0128352  \t0.819512   \t0.765854   \n",
      "3  \t60    \t0.805285\t0.00879591 \t0.819512   \t0.790244   \n",
      "4  \t60    \t0.814146\t0.0043357  \t0.821951   \t0.804878   \n",
      "5  \t60    \t0.815285\t0.00603819 \t0.826829   \t0.8        \n",
      "6  \t60    \t0.819837\t0.00306796 \t0.826829   \t0.809756   \n",
      "7  \t60    \t0.822358\t0.00515796 \t0.839024   \t0.814634   \n",
      "8  \t60    \t0.82813 \t0.00680406 \t0.839024   \t0.821951   \n",
      "9  \t60    \t0.830163\t0.00733016 \t0.839024   \t0.812195   \n",
      "10 \t60    \t0.833821\t0.00691965 \t0.839024   \t0.814634   \n",
      "11 \t60    \t0.837236\t0.00417415 \t0.839024   \t0.82439    \n",
      "12 \t60    \t0.83935 \t0.000829109\t0.841463   \t0.839024   \n",
      "13 \t60    \t0.84    \t0.00195122 \t0.846341   \t0.839024   \n",
      "14 \t60    \t0.842033\t0.00376187 \t0.84878    \t0.831707   \n",
      "15 \t60    \t0.844472\t0.00337276 \t0.84878    \t0.839024   \n",
      "16 \t60    \t0.84748 \t0.00233377 \t0.85122    \t0.839024   \n",
      "17 \t60    \t0.848537\t0.00181976 \t0.85122    \t0.841463   \n",
      "18 \t60    \t0.848862\t0.0016035  \t0.85122    \t0.841463   \n",
      "19 \t60    \t0.849675\t0.00117535 \t0.85122    \t0.84878    \n",
      "20 \t60    \t0.850488\t0.0011177  \t0.85122    \t0.84878    \n"
     ]
    },
    {
     "data": {
      "text/plain": [
       "(0.8658536585365854, (82, 136))"
      ]
     },
     "execution_count": 9,
     "metadata": {},
     "output_type": "execute_result"
    }
   ],
   "source": [
    "\n",
    "evolved_estimator.fit(np.concatenate((X_train,X_test),axis=0),np.concatenate((Y_train,Y_test),axis=0))\n",
    "features = evolved_estimator.best_features_\n",
    "\n",
    "# Predict only with the subset of selected features\n",
    "y_predict_ga = evolved_estimator.predict(X_test[:, features])\n",
    "\n",
    "knn = KNeighborsClassifier(n_neighbors=3,metric=\"cosine\")\n",
    "knn.fit(X_train[:, features],Y_train)\n",
    "knn.score(X_test[:, features],Y_test),X_test[:, features].shape"
   ]
  },
  {
   "cell_type": "code",
   "execution_count": 10,
   "metadata": {},
   "outputs": [
    {
     "data": {
      "text/plain": [
       "(0.8536585365853658, (82, 256))"
      ]
     },
     "execution_count": 10,
     "metadata": {},
     "output_type": "execute_result"
    }
   ],
   "source": [
    "knn = KNeighborsClassifier(n_neighbors=3,metric=\"cosine\")\n",
    "knn.fit(X_train,Y_train)\n",
    "knn.score(X_test,Y_test),X_test.shape"
   ]
  },
  {
   "cell_type": "code",
   "execution_count": 11,
   "metadata": {},
   "outputs": [
    {
     "data": {
      "text/plain": [
       "array([0, 1, 1, 0, 1, 0, 1, 1, 1, 1, 1, 1, 1, 1, 0, 1, 1, 1, 1, 0, 1, 0,\n",
       "       1, 1, 0, 0, 0, 1, 1, 1, 0, 1, 1, 0, 1, 1, 0, 1, 1, 0, 0, 1, 0, 1,\n",
       "       0, 1, 0, 1, 1, 1, 0, 1, 0, 1, 0, 0, 1, 0, 0, 0, 0, 0, 0, 1, 1, 1,\n",
       "       1, 0, 0, 1, 0, 1, 0, 1, 0, 1, 0, 1, 1, 0, 0, 1, 1, 1, 0, 0, 0, 0,\n",
       "       1, 1, 0, 0, 0, 1, 1, 0, 0, 1, 0, 1, 1, 1, 1, 1, 1, 0, 1, 0, 0, 0,\n",
       "       0, 1, 1, 0, 0, 1, 0, 1, 1, 0, 1, 0, 1, 1, 0, 0, 0, 1, 1, 1, 0, 1,\n",
       "       1, 1, 1, 0, 0, 1, 0, 1, 1, 1, 1, 0, 0, 0, 1, 1, 1, 0, 1, 0, 0, 1,\n",
       "       1, 1, 0, 0, 1, 0, 0, 1, 0, 0, 0, 1, 0, 1, 0, 1, 0, 1, 1, 0, 1, 0,\n",
       "       0, 1, 1, 0, 0, 0, 0, 0, 1, 1, 1, 1, 0, 0, 0, 0, 1, 0, 0, 1, 0, 1,\n",
       "       0, 1, 0, 0, 1, 1, 0, 1, 0, 1, 0, 1, 0, 1, 0, 0, 0, 1, 1, 0, 0, 1,\n",
       "       0, 1, 0, 0, 1, 0, 1, 1, 1, 1, 1, 1, 1, 1, 1, 0, 0, 0, 1, 1, 1, 1,\n",
       "       1, 0, 0, 0, 0, 1, 1, 0, 0, 1, 1, 0, 1, 0])"
      ]
     },
     "execution_count": 11,
     "metadata": {},
     "output_type": "execute_result"
    }
   ],
   "source": [
    "pos = np.array(list(map(int,features)))\n",
    "pos"
   ]
  },
  {
   "cell_type": "code",
   "execution_count": 12,
   "metadata": {},
   "outputs": [],
   "source": [
    "with open('GA-LBP-Positions.npy', 'wb') as f:\n",
    "    np.save(f, pos)"
   ]
  },
  {
   "cell_type": "code",
   "execution_count": null,
   "metadata": {},
   "outputs": [],
   "source": []
  },
  {
   "cell_type": "code",
   "execution_count": null,
   "metadata": {},
   "outputs": [],
   "source": []
  },
  {
   "cell_type": "code",
   "execution_count": null,
   "metadata": {},
   "outputs": [],
   "source": []
  }
 ],
 "metadata": {
  "kernelspec": {
   "display_name": "Python 3",
   "language": "python",
   "name": "python3"
  },
  "language_info": {
   "codemirror_mode": {
    "name": "ipython",
    "version": 3
   },
   "file_extension": ".py",
   "mimetype": "text/x-python",
   "name": "python",
   "nbconvert_exporter": "python",
   "pygments_lexer": "ipython3",
   "version": "3.8.2"
  }
 },
 "nbformat": 4,
 "nbformat_minor": 4
}
