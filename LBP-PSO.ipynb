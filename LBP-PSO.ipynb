{
 "cells": [
  {
   "cell_type": "code",
   "execution_count": 70,
   "metadata": {},
   "outputs": [],
   "source": [
    "import cv2\n",
    "import numpy as np\n",
    "from skimage import feature\n",
    "import pandas as pd \n",
    "import matplotlib.pyplot as plt\n",
    "import seaborn as sns\n",
    "import glob\n",
    "import cv2 \n",
    "from skimage.feature import local_binary_pattern\n",
    "from skimage import feature\n",
    "from sklearn.model_selection import train_test_split\n",
    "from sklearn.neighbors import KNeighborsClassifier\n",
    "from sklearn.metrics.pairwise import euclidean_distances\n",
    "import pyswarms as ps\n",
    "from pyswarms.discrete import BinaryPSO\n"
   ]
  },
  {
   "cell_type": "code",
   "execution_count": 71,
   "metadata": {},
   "outputs": [],
   "source": [
    "# load dataset\n",
    "with open('X-Train.npy', 'rb') as f:\n",
    "    X_train = np.load(f)\n",
    "    \n",
    "with open('Y-Train.npy', 'rb') as f:\n",
    "    Y_train = np.load(f)\n",
    "    \n",
    "with open('X-Test.npy', 'rb') as f:\n",
    "    X_test = np.load(f)\n",
    "    \n",
    "with open('Y-Test.npy', 'rb') as f:\n",
    "    Y_test = np.load(f)\n",
    "    "
   ]
  },
  {
   "cell_type": "code",
   "execution_count": 72,
   "metadata": {},
   "outputs": [],
   "source": [
    "# Create an instance of the classifier\n",
    "classifier = KNeighborsClassifier(n_neighbors=3,metric=\"cosine\")\n",
    "\n",
    "# Define objective function for each particle\n",
    "def ParticleFitness(m):\n",
    "    total_features = 256\n",
    "    if np.count_nonzero(m) == 0:\n",
    "        X_subset_train = X_train\n",
    "        X_subset_test = X_test\n",
    "    else:\n",
    "        X_subset_train = X_train[:,m==1]\n",
    "        X_subset_test = X_test[:,m==1]\n",
    "    \n",
    "    classifier.fit(X_subset_train, Y_train)\n",
    "    P = classifier.score(X_subset_test,Y_test)\n",
    "    # Compute for the objective function\n",
    "    #j = (alpha * (1.0 - P) + (1.0 - alpha) * (1 - (X_subset_train.shape[1] / total_features)))\n",
    "\n",
    "    return 1-P"
   ]
  },
  {
   "cell_type": "code",
   "execution_count": 73,
   "metadata": {},
   "outputs": [],
   "source": [
    "def Fitness(x, alpha=0.88,**k):\n",
    "    n_particles = x.shape[0]\n",
    "    j = [ParticleFitness(x[i]) for i in range(n_particles)]\n",
    "    return np.array(j)"
   ]
  },
  {
   "cell_type": "code",
   "execution_count": 74,
   "metadata": {},
   "outputs": [
    {
     "name": "stderr",
     "output_type": "stream",
     "text": [
      "2022-02-15 18:06:22,094 - pyswarms.discrete.binary - INFO - Optimize for 150 iters with {'c1': 1.4, 'c2': 1.4, 'w': 0.72, 'k': 20, 'p': 2}\n",
      "pyswarms.discrete.binary: 100%|██████████████████████████████████████████████████████████████|150/150, best_cost=0.0976\n",
      "2022-02-15 18:06:41,566 - pyswarms.discrete.binary - INFO - Optimization finished | best cost: 0.09756097560975607, best pos: [0 1 1 0 0 0 1 0 0 0 1 1 0 0 1 1 1 0 1 1 0 0 0 1 0 1 1 1 1 0 0 1 1 0 1 1 0\n",
      " 0 1 1 1 0 0 1 0 0 1 1 1 0 1 1 0 0 0 0 0 0 0 0 1 1 0 1 1 0 1 0 1 0 1 0 0 0\n",
      " 1 1 0 0 0 1 1 0 1 1 0 1 1 1 0 0 0 1 0 1 0 0 0 0 1 1 1 1 1 1 0 0 1 0 1 1 0\n",
      " 0 0 1 0 1 1 0 0 1 1 1 1 1 0 1 1 1 1 1 1 0 1 1 0 1 1 0 1 1 0 1 0 0 1 1 1 0\n",
      " 1 0 1 1 0 0 1 0 0 0 0 0 1 0 1 0 0 0 1 1 0 1 1 0 1 1 1 0 1 0 1 0 0 1 0 0 1\n",
      " 0 0 1 1 1 0 1 1 1 0 1 0 0 0 1 1 1 1 1 0 0 0 1 1 0 1 0 0 1 0 0 0 0 0 1 0 1\n",
      " 0 1 0 0 1 1 1 1 0 1 1 0 1 1 0 1 0 0 1 1 1 1 1 1 1 1 1 0 0 0 0 1 0 0]\n"
     ]
    }
   ],
   "source": [
    "# Initialize swarm, arbitrary\n",
    "options = {'c1': 1.4, 'c2': 1.4, 'w':0.72, 'k': 20, 'p':2}\n",
    "\n",
    "\n",
    "# Call instance of PSO\n",
    "dimensions = 256 # dimensions should be the number of features\n",
    "optimizer = ps.discrete.BinaryPSO(n_particles=20, dimensions=dimensions, options=options)\n",
    "\n",
    "# Perform optimization\n",
    "cost, pos = optimizer.optimize(Fitness,iters=150, verbose=2)\n",
    "optimizer.reset()"
   ]
  },
  {
   "cell_type": "code",
   "execution_count": 75,
   "metadata": {},
   "outputs": [
    {
     "name": "stdout",
     "output_type": "stream",
     "text": [
      "Subset performance: 0.902\n"
     ]
    }
   ],
   "source": [
    "classifier = KNeighborsClassifier(n_neighbors=3,metric=\"cosine\")\n",
    "\n",
    "\n",
    "X_selected_features_train = X_train[:,pos==1]  \n",
    "X_selected_features_test = X_test[:,pos==1]\n",
    "\n",
    "classifier.fit(X_selected_features_train, Y_train)\n",
    "\n",
    "subset_performance = (classifier.predict(X_selected_features_test) == Y_test).mean()\n",
    "print('Subset performance: %.3f' % (subset_performance))"
   ]
  },
  {
   "cell_type": "code",
   "execution_count": 76,
   "metadata": {},
   "outputs": [
    {
     "name": "stdout",
     "output_type": "stream",
     "text": [
      "Count of selected Features: 134\n"
     ]
    }
   ],
   "source": [
    "print(\"Count of selected Features:\",sum(pos))"
   ]
  },
  {
   "cell_type": "code",
   "execution_count": 77,
   "metadata": {},
   "outputs": [
    {
     "name": "stdout",
     "output_type": "stream",
     "text": [
      "Actual features performance: 0.854\n"
     ]
    }
   ],
   "source": [
    "\n",
    "classfier = KNeighborsClassifier(n_neighbors=3,metric=\"cosine\")\n",
    "\n",
    "X_selected_features_train = X_train.copy()  \n",
    "X_selected_features_test = X_test.copy()\n",
    "\n",
    "classifier.fit(X_selected_features_train, Y_train)\n",
    "\n",
    "# Compute performance\n",
    "subset_performance = (classifier.predict(X_selected_features_test) == Y_test).mean()\n",
    "\n",
    "\n",
    "print('Actual features performance: %.3f' % (subset_performance))"
   ]
  },
  {
   "cell_type": "code",
   "execution_count": 78,
   "metadata": {},
   "outputs": [],
   "source": [
    "with open('PSO-LBP-Positions.npy', 'wb') as f:\n",
    "    np.save(f, pos)"
   ]
  },
  {
   "cell_type": "code",
   "execution_count": null,
   "metadata": {},
   "outputs": [],
   "source": []
  },
  {
   "cell_type": "code",
   "execution_count": null,
   "metadata": {},
   "outputs": [],
   "source": []
  }
 ],
 "metadata": {
  "kernelspec": {
   "display_name": "Python 3",
   "language": "python",
   "name": "python3"
  },
  "language_info": {
   "codemirror_mode": {
    "name": "ipython",
    "version": 3
   },
   "file_extension": ".py",
   "mimetype": "text/x-python",
   "name": "python",
   "nbconvert_exporter": "python",
   "pygments_lexer": "ipython3",
   "version": "3.8.2"
  }
 },
 "nbformat": 4,
 "nbformat_minor": 4
}
