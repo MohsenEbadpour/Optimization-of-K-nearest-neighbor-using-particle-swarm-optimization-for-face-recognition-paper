{
 "cells": [
  {
   "cell_type": "code",
   "execution_count": 1,
   "metadata": {},
   "outputs": [],
   "source": [
    "import numpy as np \n",
    "import pandas as pd \n",
    "import matplotlib.pyplot as plt\n",
    "import seaborn as sns\n",
    "import glob\n",
    "import cv2 \n",
    "from skimage.feature import local_binary_pattern\n",
    "from skimage import feature\n",
    "from sklearn.model_selection import train_test_split\n",
    "from sklearn.neighbors import KNeighborsClassifier\n",
    "from sklearn.metrics.pairwise import euclidean_distances\n",
    "from sklearn.decomposition import PCA\n",
    "import pyswarms as ps\n"
   ]
  },
  {
   "cell_type": "code",
   "execution_count": 2,
   "metadata": {},
   "outputs": [
    {
     "name": "stdout",
     "output_type": "stream",
     "text": [
      "Shapes of Dataset: (410, 5600)\n",
      "explained variance with 256 Eigen vectors: 0.9937696519443581\n"
     ]
    },
    {
     "data": {
      "text/plain": [
       "0.9223300970873787"
      ]
     },
     "execution_count": 2,
     "metadata": {},
     "output_type": "execute_result"
    }
   ],
   "source": [
    "# load images of ORL\n",
    "Images = []\n",
    "Labels = []\n",
    "files = glob.glob(\"./ORL/*.jpg\")\n",
    "files.sort()\n",
    "for img in files:\n",
    "    tile= cv2.imread(img)\n",
    "    tile = cv2.cvtColor(tile, cv2.COLOR_BGR2GRAY)\n",
    "    label = img.split(\"_\")[1].split(\".\")[0]\n",
    "    Labels.append(int(label))\n",
    "    Images.append(np.reshape(tile,(70*80)))\n",
    "    \n",
    "Images = np.array(Images)\n",
    "Labels = np.array(Labels)\n",
    "print(\"Shapes of Dataset:\",Images.shape)\n",
    "\n",
    "_X_train, _X_test, Y_train, Y_test = train_test_split(Images, Labels, test_size=0.25, stratify=Labels)\n",
    "\n",
    "pca = PCA()\n",
    "pca.fit(_X_train)\n",
    "print(\"explained variance with 256 Eigen vectors:\",sum(pca.explained_variance_ratio_[:256]))\n",
    "pca = PCA(n_components=256)\n",
    "pca.fit(_X_train)\n",
    "X_train = pca.transform(_X_train)\n",
    "X_test = pca.transform(_X_test)\n",
    "\n",
    "classifier = KNeighborsClassifier(n_neighbors=3,metric=\"cosine\")\n",
    "classifier.fit(X_train,Y_train)\n",
    "classifier.score(X_test,Y_test)"
   ]
  },
  {
   "cell_type": "code",
   "execution_count": 3,
   "metadata": {},
   "outputs": [],
   "source": [
    "# Create an instance of the classifier\n",
    "classifier = KNeighborsClassifier(n_neighbors=3,metric=\"cosine\")\n",
    "\n",
    "# Define objective function for each particle\n",
    "def ParticleFitness(m):\n",
    "    total_features = 256\n",
    "    if np.count_nonzero(m) == 0:\n",
    "        X_subset_train = X_train\n",
    "        X_subset_test = X_test\n",
    "    else:\n",
    "        X_subset_train = X_train[:,m==1]\n",
    "        X_subset_test = X_test[:,m==1]\n",
    "    \n",
    "    classifier.fit(X_subset_train, Y_train)\n",
    "    P = classifier.score(X_subset_test,Y_test)\n",
    "\n",
    "    return 1-P"
   ]
  },
  {
   "cell_type": "code",
   "execution_count": 4,
   "metadata": {},
   "outputs": [],
   "source": [
    "def Fitness(x, alpha=0.88,**k):\n",
    "    n_particles = x.shape[0]\n",
    "    j = [ParticleFitness(x[i]) for i in range(n_particles)]\n",
    "    return np.array(j)"
   ]
  },
  {
   "cell_type": "code",
   "execution_count": 6,
   "metadata": {},
   "outputs": [
    {
     "name": "stderr",
     "output_type": "stream",
     "text": [
      "2022-02-15 22:38:48,525 - pyswarms.discrete.binary - INFO - Optimize for 500 iters with {'c1': 1.5, 'c2': 1.6, 'w': 0.95, 'k': 100, 'p': 2}\n",
      "pyswarms.discrete.binary: 100%|██████████████████████████████████████████████████████████████|500/500, best_cost=0.0291\n",
      "2022-02-15 22:44:49,438 - pyswarms.discrete.binary - INFO - Optimization finished | best cost: 0.029126213592232997, best pos: [1 1 1 1 1 0 1 1 1 1 1 1 1 1 1 0 0 1 0 0 0 0 1 1 1 0 1 0 0 0 1 0 0 0 1 1 0\n",
      " 1 1 0 1 1 1 0 0 0 1 1 0 1 1 1 1 0 1 1 0 1 0 0 1 0 0 0 0 0 1 1 0 1 1 1 0 0\n",
      " 1 0 0 0 1 1 1 0 0 0 0 1 0 1 1 0 0 0 1 1 1 0 0 0 1 1 0 0 0 0 1 0 0 1 1 1 1\n",
      " 1 0 1 0 0 0 0 1 0 0 0 1 1 1 0 0 1 1 0 1 1 1 1 0 0 1 0 0 0 1 0 1 0 0 1 1 1\n",
      " 1 1 1 0 0 0 0 0 1 1 0 1 0 0 1 1 0 1 0 1 1 0 1 1 0 1 1 1 1 1 0 0 1 1 1 1 1\n",
      " 1 1 0 1 1 0 0 1 0 1 0 1 0 1 0 1 1 0 0 1 0 0 0 1 0 1 0 1 1 1 1 0 0 1 1 1 0\n",
      " 1 1 1 0 0 0 0 0 1 1 0 0 1 0 0 0 0 1 1 0 1 0 0 0 1 0 1 0 0 1 1 1 1 0]\n"
     ]
    }
   ],
   "source": [
    "# Initialize swarm, arbitrary\n",
    "options = {'c1': 1.5, 'c2': 1.6, 'w':0.95, 'k': 100, 'p':2}\n",
    "\n",
    "\n",
    "# Call instance of PSO\n",
    "dimensions = 256 # dimensions should be the number of features\n",
    "optimizer = ps.discrete.BinaryPSO(n_particles=100, dimensions=dimensions, options=options)\n",
    "\n",
    "# Perform optimization\n",
    "cost, pos = optimizer.optimize(Fitness,iters=500, verbose=2)\n",
    "optimizer.reset()"
   ]
  },
  {
   "cell_type": "code",
   "execution_count": 7,
   "metadata": {},
   "outputs": [
    {
     "name": "stdout",
     "output_type": "stream",
     "text": [
      "Subset performance: 0.971\n"
     ]
    }
   ],
   "source": [
    "classifier = KNeighborsClassifier(n_neighbors=3,metric=\"cosine\")\n",
    "\n",
    "\n",
    "X_selected_features_train = X_train[:,pos==1]  \n",
    "X_selected_features_test = X_test[:,pos==1]\n",
    "\n",
    "classifier.fit(X_selected_features_train, Y_train)\n",
    "\n",
    "subset_performance = (classifier.predict(X_selected_features_test) == Y_test).mean()\n",
    "print('Subset performance: %.3f' % (subset_performance))"
   ]
  },
  {
   "cell_type": "code",
   "execution_count": 8,
   "metadata": {},
   "outputs": [
    {
     "name": "stdout",
     "output_type": "stream",
     "text": [
      "Count of selected Eigen vectors: 135\n"
     ]
    }
   ],
   "source": [
    "print(\"Count of selected Eigen vectors:\",sum(pos))"
   ]
  },
  {
   "cell_type": "code",
   "execution_count": 9,
   "metadata": {},
   "outputs": [
    {
     "name": "stdout",
     "output_type": "stream",
     "text": [
      "Explained variance with selected Eigen vectors by PSO: 0.8097820190313606\n"
     ]
    }
   ],
   "source": [
    "print(\"Explained variance with selected Eigen vectors by PSO:\",sum(pca.explained_variance_ratio_[pos==1] ))"
   ]
  },
  {
   "cell_type": "code",
   "execution_count": 27,
   "metadata": {},
   "outputs": [
    {
     "name": "stdout",
     "output_type": "stream",
     "text": [
      "Passed : 10 0.8543689320388349\n",
      "Passed : 20 0.883495145631068\n",
      "Passed : 30 0.9223300970873787\n",
      "Passed : 40 0.9223300970873787\n",
      "Passed : 50 0.9223300970873787\n",
      "Passed : 60 0.9223300970873787\n",
      "Passed : 70 0.9320388349514563\n",
      "Passed : 80 0.9320388349514563\n",
      "Passed : 90 0.9320388349514563\n",
      "Passed : 100 0.9320388349514563\n",
      "Passed : 110 0.9320388349514563\n",
      "Passed : 120 0.9320388349514563\n",
      "Passed : 130 0.9320388349514563\n",
      "Passed : 140 0.9320388349514563\n",
      "Passed : 150 0.9320388349514563\n",
      "Passed : 160 0.9320388349514563\n",
      "Passed : 170 0.9320388349514563\n",
      "Passed : 180 0.9320388349514563\n",
      "Passed : 190 0.9320388349514563\n",
      "Passed : 200 0.9320388349514563\n",
      "Passed : 210 0.9320388349514563\n",
      "Passed : 220 0.9320388349514563\n",
      "Passed : 230 0.9320388349514563\n",
      "Passed : 240 0.9320388349514563\n",
      "Passed : 250 0.9320388349514563\n",
      "Passed : 260 0.9320388349514563\n",
      "Passed : 270 0.9320388349514563\n",
      "Passed : 280 0.9320388349514563\n",
      "Passed : 290 0.9320388349514563\n",
      "Passed : 300 0.9320388349514563\n"
     ]
    }
   ],
   "source": [
    "_X_train, _X_test, Y_train, Y_test = train_test_split(Images, Labels, test_size=0.25, stratify=Labels)\n",
    "Accus = []\n",
    "for i in range(1,min(_X_train.shape)+1):\n",
    "    pca = PCA(n_components=i)\n",
    "    pca.fit(_X_train)\n",
    "    X_train = pca.transform(_X_train)\n",
    "    X_test = pca.transform(_X_test)\n",
    "\n",
    "    classifier = KNeighborsClassifier(n_neighbors=3,metric=\"cosine\")\n",
    "    classifier.fit(X_train,Y_train)\n",
    "    Accus.append(classifier.score(X_test,Y_test)) \n",
    "    if i!=0 and i%10==0:\n",
    "        print(\"Passed :\",i,max(Accus))"
   ]
  },
  {
   "cell_type": "code",
   "execution_count": 28,
   "metadata": {},
   "outputs": [
    {
     "data": {
      "image/png": "[encoded data removed]",
      "text/plain": [
       "<Figure size 648x432 with 1 Axes>"
      ]
     },
     "metadata": {},
     "output_type": "display_data"
    }
   ],
   "source": [
    "sns.set_style(\"darkgrid\")\n",
    "plt.rcParams['figure.figsize'] = [9, 6]\n",
    "plt.plot(list(range(1,min(_X_train.shape)+1)),Accus)\n",
    "plt.title(\"3-NN accuracy based on component numbers(pure PCA) | Cosine distace | Max: {0}%\".format(round(max(Accus)*100,2)))\n",
    "plt.xlabel(\"Different component numbers\")\n",
    "plt.ylabel(\"Accuracy score\")\n",
    "plt.show()"
   ]
  },
  {
   "cell_type": "code",
   "execution_count": 29,
   "metadata": {},
   "outputs": [],
   "source": [
    "with open('PSO-PCA-Positions.npy', 'wb') as f:\n",
    "    np.save(f, pos)"
   ]
  },
  {
   "cell_type": "code",
   "execution_count": null,
   "metadata": {},
   "outputs": [],
   "source": []
  }
 ],
 "metadata": {
  "kernelspec": {
   "display_name": "Python 3",
   "language": "python",
   "name": "python3"
  },
  "language_info": {
   "codemirror_mode": {
    "name": "ipython",
    "version": 3
   },
   "file_extension": ".py",
   "mimetype": "text/x-python",
   "name": "python",
   "nbconvert_exporter": "python",
   "pygments_lexer": "ipython3",
   "version": "3.8.2"
  }
 },
 "nbformat": 4,
 "nbformat_minor": 4
}
