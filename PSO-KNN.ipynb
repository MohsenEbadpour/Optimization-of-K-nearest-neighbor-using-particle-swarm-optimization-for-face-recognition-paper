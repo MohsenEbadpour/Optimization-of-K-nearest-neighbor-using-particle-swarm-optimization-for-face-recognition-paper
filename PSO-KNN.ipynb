{
 "cells": [
  {
   "cell_type": "code",
   "execution_count": 11,
   "metadata": {},
   "outputs": [],
   "source": [
    "import cv2\n",
    "import numpy as np\n",
    "from skimage import feature\n",
    "import numpy as np\n",
    "import numpy as np \n",
    "import pandas as pd \n",
    "import matplotlib.pyplot as plt\n",
    "import seaborn as sns\n",
    "import glob\n",
    "import cv2 \n",
    "from skimage.feature import local_binary_pattern\n",
    "from skimage import feature\n",
    "from sklearn.model_selection import train_test_split\n",
    "from sklearn.neighbors import KNeighborsClassifier\n",
    "from sklearn.metrics.pairwise import euclidean_distances\n",
    "import pyswarms as ps\n",
    "from pyswarms.discrete import BinaryPSO\n"
   ]
  },
  {
   "cell_type": "code",
   "execution_count": 12,
   "metadata": {},
   "outputs": [],
   "source": [
    "# load dataset\n",
    "with open('X-Train.npy', 'rb') as f:\n",
    "    X_train = np.load(f)\n",
    "    \n",
    "with open('Y-Train.npy', 'rb') as f:\n",
    "    Y_train = np.load(f)\n",
    "    \n",
    "with open('X-Test.npy', 'rb') as f:\n",
    "    X_test = np.load(f)\n",
    "    \n",
    "with open('Y-Test.npy', 'rb') as f:\n",
    "    Y_test = np.load(f)\n",
    "    \n",
    "with open('GA-LBP-Positions.npy', 'rb') as f:\n",
    "    ga_pos = np.load(f)\n",
    "\n",
    "with open('PSO-LBP-Positions.npy', 'rb') as f:\n",
    "    pso_pos = np.load(f)\n",
    "\n",
    "with open('ACO-LBP-Positions(1).npy', 'rb') as f:\n",
    "    aco_pos = np.load(f)\n",
    "   \n",
    "Positions = [ga_pos,pso_pos,aco_pos,np.array([1]*256)]\n",
    "Names = [\"Genetic Algorithm\",\"Particle Swarm Optimization\",\"Ant Colony Optimization\",\"Actual\"]\n"
   ]
  },
  {
   "cell_type": "code",
   "execution_count": 13,
   "metadata": {},
   "outputs": [],
   "source": [
    "# Define objective function for each particle\n",
    "def ParticleFitness(m):\n",
    "    \n",
    "    k = list(map(str,list(m)))\n",
    "    k = int(\"\".join(k),2)\n",
    "\n",
    "    classifier = KNeighborsClassifier(n_neighbors=k,metric=\"cosine\")\n",
    "    total_features = 6    \n",
    "    classifier.fit(_X_train, Y_train)\n",
    "    P = classifier.score(_X_test,Y_test)\n",
    "    \n",
    "    return 1-P\n",
    "\n",
    "def Fitness(x, alpha=0.88,**k):\n",
    "    \n",
    "    file = open('PSO-KNN-Report.txt', 'a')\n",
    "    n_particles = x.shape[0]\n",
    "    result = []\n",
    "    for i in range(n_particles):\n",
    "        k = list(map(str,list(x[i])))\n",
    "        k = int(\"\".join(k),2)\n",
    "        file.write(str(k)+\", \")\n",
    "        if k == 0:\n",
    "            result.append(1)\n",
    "        else:\n",
    "            result.append(ParticleFitness(x[i]))\n",
    "    file.write(\"\\n\")\n",
    "    return np.array(result)\n"
   ]
  },
  {
   "cell_type": "code",
   "execution_count": 14,
   "metadata": {},
   "outputs": [
    {
     "name": "stderr",
     "output_type": "stream",
     "text": [
      "2022-02-15 19:05:35,076 - pyswarms.discrete.binary - INFO - Optimize for 75 iters with {'c1': 1.4, 'c2': 1.4, 'w': 0.8, 'k': 25, 'p': 2}\n"
     ]
    },
    {
     "name": "stdout",
     "output_type": "stream",
     "text": [
      "Optimizing K value in K-NN with Genetic Algorithm features\n"
     ]
    },
    {
     "name": "stderr",
     "output_type": "stream",
     "text": [
      "pyswarms.discrete.binary: 100%|█████████████████████████████████████████████████████████████████|75/75, best_cost=0.134\n",
      "2022-02-15 19:05:44,816 - pyswarms.discrete.binary - INFO - Optimization finished | best cost: 0.13414634146341464, best pos: [0 0 0 0 0 1]\n",
      "2022-02-15 19:05:44,835 - pyswarms.discrete.binary - INFO - Optimize for 75 iters with {'c1': 1.4, 'c2': 1.4, 'w': 0.8, 'k': 25, 'p': 2}\n"
     ]
    },
    {
     "name": "stdout",
     "output_type": "stream",
     "text": [
      "Best K found is: 1 and its score is 0.8658536585365854\n",
      "Optimizing K value in K-NN with Particle Swarm Optimization features\n"
     ]
    },
    {
     "name": "stderr",
     "output_type": "stream",
     "text": [
      "pyswarms.discrete.binary: 100%|████████████████████████████████████████████████████████████████|75/75, best_cost=0.0976\n",
      "2022-02-15 19:05:56,809 - pyswarms.discrete.binary - INFO - Optimization finished | best cost: 0.09756097560975607, best pos: [0 0 0 0 1 1]\n",
      "2022-02-15 19:05:56,823 - pyswarms.discrete.binary - INFO - Optimize for 75 iters with {'c1': 1.4, 'c2': 1.4, 'w': 0.8, 'k': 25, 'p': 2}\n"
     ]
    },
    {
     "name": "stdout",
     "output_type": "stream",
     "text": [
      "Best K found is: 3 and its score is 0.9024390243902439\n",
      "Optimizing K value in K-NN with Ant Colony Optimization features\n"
     ]
    },
    {
     "name": "stderr",
     "output_type": "stream",
     "text": [
      "pyswarms.discrete.binary: 100%|█████████████████████████████████████████████████████████████████|75/75, best_cost=0.122\n",
      "2022-02-15 19:06:05,899 - pyswarms.discrete.binary - INFO - Optimization finished | best cost: 0.12195121951219512, best pos: [0 0 0 0 1 1]\n",
      "2022-02-15 19:06:05,913 - pyswarms.discrete.binary - INFO - Optimize for 75 iters with {'c1': 1.4, 'c2': 1.4, 'w': 0.8, 'k': 25, 'p': 2}\n"
     ]
    },
    {
     "name": "stdout",
     "output_type": "stream",
     "text": [
      "Best K found is: 3 and its score is 0.8780487804878049\n",
      "Optimizing K value in K-NN with Actual features\n"
     ]
    },
    {
     "name": "stderr",
     "output_type": "stream",
     "text": [
      "pyswarms.discrete.binary: 100%|████████████████████████████████████████████████████████████████|75/75, best_cost=0.0854\n",
      "2022-02-15 19:06:17,553 - pyswarms.discrete.binary - INFO - Optimization finished | best cost: 0.08536585365853655, best pos: [0 0 0 0 0 1]\n"
     ]
    },
    {
     "name": "stdout",
     "output_type": "stream",
     "text": [
      "Best K found is: 1 and its score is 0.9146341463414634\n"
     ]
    }
   ],
   "source": [
    "options = {'c1': 1.4, 'c2': 1.4, 'w':0.8, 'k': 25, 'p':2}\n",
    "dimensions = 6 \n",
    "\n",
    "for index  in range(len(Positions)):\n",
    "    print(\"Optimizing K value in K-NN with {0} features\".format(Names[index]))\n",
    "    _X_train = X_train[:,Positions[index]==1]\n",
    "    _X_test = X_test[:,Positions[index]==1]\n",
    "    \n",
    "    optimizer = ps.discrete.BinaryPSO(n_particles=25, dimensions=dimensions, options=options)\n",
    "    cost, pos = optimizer.optimize(Fitness,iters=75, verbose=2)\n",
    "    optimizer.reset()\n",
    "    k = list(map(str,list(pos)))\n",
    "    k = int(\"\".join(k),2)\n",
    "    \n",
    "    classifier = KNeighborsClassifier(n_neighbors=k,metric=\"cosine\")\n",
    "    classifier.fit(_X_train, Y_train)\n",
    "    print(\"Best K found is: {0} and its score is {1}\".format(k,classifier.score(_X_test,Y_test)))\n"
   ]
  },
  {
   "cell_type": "code",
   "execution_count": null,
   "metadata": {},
   "outputs": [],
   "source": []
  },
  {
   "cell_type": "code",
   "execution_count": null,
   "metadata": {},
   "outputs": [],
   "source": []
  },
  {
   "cell_type": "code",
   "execution_count": null,
   "metadata": {},
   "outputs": [],
   "source": []
  },
  {
   "cell_type": "code",
   "execution_count": null,
   "metadata": {},
   "outputs": [],
   "source": []
  },
  {
   "cell_type": "code",
   "execution_count": null,
   "metadata": {},
   "outputs": [],
   "source": []
  }
 ],
 "metadata": {
  "kernelspec": {
   "display_name": "Python 3",
   "language": "python",
   "name": "python3"
  },
  "language_info": {
   "codemirror_mode": {
    "name": "ipython",
    "version": 3
   },
   "file_extension": ".py",
   "mimetype": "text/x-python",
   "name": "python",
   "nbconvert_exporter": "python",
   "pygments_lexer": "ipython3",
   "version": "3.8.2"
  }
 },
 "nbformat": 4,
 "nbformat_minor": 4
}
